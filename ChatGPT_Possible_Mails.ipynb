{
  "nbformat": 4,
  "nbformat_minor": 0,
  "metadata": {
    "colab": {
      "provenance": [],
      "authorship_tag": "ABX9TyM3e9EqPrvLvjbyxGFkO1kM",
      "include_colab_link": true
    },
    "kernelspec": {
      "name": "python3",
      "display_name": "Python 3"
    },
    "language_info": {
      "name": "python"
    }
  },
  "cells": [
    {
      "cell_type": "markdown",
      "metadata": {
        "id": "view-in-github",
        "colab_type": "text"
      },
      "source": [
        "<a href=\"https://colab.research.google.com/github/YounSooKimTech/NLP_Power/blob/main/ChatGPT_Possible_Mails.ipynb\" target=\"_parent\"><img src=\"https://colab.research.google.com/assets/colab-badge.svg\" alt=\"Open In Colab\"/></a>"
      ]
    },
    {
      "cell_type": "code",
      "source": [
        "# mail to boss\n",
        "import nltk\n",
        "from nltk.tokenize import word_tokenize\n",
        "from nltk.corpus import stopwords\n",
        "import string\n",
        "\n",
        "nltk.download('punkt')\n",
        "nltk.download('stopwords')\n",
        "\n",
        "# Step 1: Open the text file\n",
        "file_path = \"/content/Letter_To_Boss.txt\"\n",
        "with open(file_path, 'r') as file:\n",
        "    # Step 2: Read the contents of the file\n",
        "    text = file.read()\n",
        "\n",
        "# Step 4: Tokenize the text\n",
        "tokens = word_tokenize(text)\n",
        "\n",
        "# Step 5: Remove stopwords\n",
        "stopwords = set(stopwords.words('english'))  # Set of English stopwords\n",
        "punctuation = set(string.punctuation)\n",
        "filtered_tokens = [token for token in tokens if token.lower() not in stopwords and token not in punctuation]\n",
        "\n",
        "print(len(filtered_tokens))\n",
        "\n",
        "'''\n",
        "# Step 6: Print or process the filtered tokens\n",
        "for token in filtered_tokens:\n",
        "    print(token)\n",
        "'''"
      ],
      "metadata": {
        "colab": {
          "base_uri": "https://localhost:8080/",
          "height": 126
        },
        "id": "innp1622d8oe",
        "outputId": "426186f5-0825-4bc4-bbce-4b7483081f4e"
      },
      "execution_count": 11,
      "outputs": [
        {
          "output_type": "stream",
          "name": "stdout",
          "text": [
            "270\n"
          ]
        },
        {
          "output_type": "stream",
          "name": "stderr",
          "text": [
            "[nltk_data] Downloading package punkt to /root/nltk_data...\n",
            "[nltk_data]   Package punkt is already up-to-date!\n",
            "[nltk_data] Downloading package stopwords to /root/nltk_data...\n",
            "[nltk_data]   Package stopwords is already up-to-date!\n"
          ]
        },
        {
          "output_type": "execute_result",
          "data": {
            "text/plain": [
              "'\\n# Step 6: Print or process the filtered tokens\\nfor token in filtered_tokens:\\n    print(token)\\n'"
            ],
            "application/vnd.google.colaboratory.intrinsic+json": {
              "type": "string"
            }
          },
          "metadata": {},
          "execution_count": 11
        }
      ]
    },
    {
      "cell_type": "code",
      "source": [
        "# mail to employee\n",
        "import nltk\n",
        "from nltk.tokenize import word_tokenize\n",
        "from nltk.corpus import stopwords\n",
        "import string\n",
        "\n",
        "nltk.download('punkt')\n",
        "nltk.download('stopwords')\n",
        "\n",
        "# Step 1: Open the text file\n",
        "file_path = \"/content/letter_To_Employee.txt\"\n",
        "with open(file_path, 'r') as file:\n",
        "    # Step 2: Read the contents of the file\n",
        "    text = file.read()\n",
        "\n",
        "# Step 4: Tokenize the text\n",
        "tokens = word_tokenize(text)\n",
        "\n",
        "# Step 5: Remove stopwords\n",
        "stopwords = set(stopwords.words('english'))  # Set of English stopwords\n",
        "punctuation = set(string.punctuation)\n",
        "filtered_tokens = [token for token in tokens if token.lower() not in stopwords and token not in punctuation]\n",
        "\n",
        "print(len(filtered_tokens))\n"
      ],
      "metadata": {
        "colab": {
          "base_uri": "https://localhost:8080/"
        },
        "id": "l-c3yzZOern0",
        "outputId": "7afce0a5-17f2-4ad6-d89d-ea2fd9101a39"
      },
      "execution_count": 12,
      "outputs": [
        {
          "output_type": "stream",
          "name": "stdout",
          "text": [
            "233\n"
          ]
        },
        {
          "output_type": "stream",
          "name": "stderr",
          "text": [
            "[nltk_data] Downloading package punkt to /root/nltk_data...\n",
            "[nltk_data]   Package punkt is already up-to-date!\n",
            "[nltk_data] Downloading package stopwords to /root/nltk_data...\n",
            "[nltk_data]   Package stopwords is already up-to-date!\n"
          ]
        }
      ]
    }
  ]
}